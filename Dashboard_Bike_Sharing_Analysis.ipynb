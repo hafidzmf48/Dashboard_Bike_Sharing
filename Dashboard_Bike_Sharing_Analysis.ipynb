{
  "nbformat": 4,
  "nbformat_minor": 0,
  "metadata": {
    "colab": {
      "provenance": []
    },
    "kernelspec": {
      "name": "python3",
      "display_name": "Python 3"
    },
    "language_info": {
      "name": "python"
    }
  },
  "cells": [
    {
      "cell_type": "markdown",
      "source": [
        "# Script Dashboard Analisis Data Bike Sharing"
      ],
      "metadata": {
        "id": "2pslAtouKAHw"
      }
    },
    {
      "cell_type": "markdown",
      "source": [
        "## **Prepare Step**"
      ],
      "metadata": {
        "id": "r5yxare_WTda"
      }
    },
    {
      "cell_type": "markdown",
      "source": [
        "Import packages that might be used"
      ],
      "metadata": {
        "id": "b5hdUK2jKMGR"
      }
    },
    {
      "cell_type": "code",
      "source": [
        "import numpy as np\n",
        "import pandas as pd\n",
        "import os\n",
        "import seaborn as sns\n",
        "import matplotlib.pyplot as plt\n",
        "!pip install streamlit\n",
        "import streamlit as st"
      ],
      "metadata": {
        "colab": {
          "base_uri": "https://localhost:8080/"
        },
        "id": "pz0RcFXMKLQG",
        "outputId": "17d4e9d2-f580-4deb-d53b-160e531bd978"
      },
      "execution_count": null,
      "outputs": [
        {
          "output_type": "stream",
          "name": "stdout",
          "text": [
            "Collecting streamlit\n",
            "  Downloading streamlit-1.29.0-py2.py3-none-any.whl (8.4 MB)\n",
            "\u001b[2K     \u001b[90m━━━━━━━━━━━━━━━━━━━━━━━━━━━━━━━━━━━━━━━━\u001b[0m \u001b[32m8.4/8.4 MB\u001b[0m \u001b[31m31.8 MB/s\u001b[0m eta \u001b[36m0:00:00\u001b[0m\n",
            "\u001b[?25hRequirement already satisfied: altair<6,>=4.0 in /usr/local/lib/python3.10/dist-packages (from streamlit) (4.2.2)\n",
            "Requirement already satisfied: blinker<2,>=1.0.0 in /usr/lib/python3/dist-packages (from streamlit) (1.4)\n",
            "Requirement already satisfied: cachetools<6,>=4.0 in /usr/local/lib/python3.10/dist-packages (from streamlit) (5.3.2)\n",
            "Requirement already satisfied: click<9,>=7.0 in /usr/local/lib/python3.10/dist-packages (from streamlit) (8.1.7)\n",
            "Collecting importlib-metadata<7,>=1.4 (from streamlit)\n",
            "  Downloading importlib_metadata-6.11.0-py3-none-any.whl (23 kB)\n",
            "Requirement already satisfied: numpy<2,>=1.19.3 in /usr/local/lib/python3.10/dist-packages (from streamlit) (1.23.5)\n",
            "Requirement already satisfied: packaging<24,>=16.8 in /usr/local/lib/python3.10/dist-packages (from streamlit) (23.2)\n",
            "Requirement already satisfied: pandas<3,>=1.3.0 in /usr/local/lib/python3.10/dist-packages (from streamlit) (1.5.3)\n",
            "Requirement already satisfied: pillow<11,>=7.1.0 in /usr/local/lib/python3.10/dist-packages (from streamlit) (9.4.0)\n",
            "Requirement already satisfied: protobuf<5,>=3.20 in /usr/local/lib/python3.10/dist-packages (from streamlit) (3.20.3)\n",
            "Requirement already satisfied: pyarrow>=6.0 in /usr/local/lib/python3.10/dist-packages (from streamlit) (10.0.1)\n",
            "Requirement already satisfied: python-dateutil<3,>=2.7.3 in /usr/local/lib/python3.10/dist-packages (from streamlit) (2.8.2)\n",
            "Requirement already satisfied: requests<3,>=2.27 in /usr/local/lib/python3.10/dist-packages (from streamlit) (2.31.0)\n",
            "Requirement already satisfied: rich<14,>=10.14.0 in /usr/local/lib/python3.10/dist-packages (from streamlit) (13.7.0)\n",
            "Requirement already satisfied: tenacity<9,>=8.1.0 in /usr/local/lib/python3.10/dist-packages (from streamlit) (8.2.3)\n",
            "Requirement already satisfied: toml<2,>=0.10.1 in /usr/local/lib/python3.10/dist-packages (from streamlit) (0.10.2)\n",
            "Requirement already satisfied: typing-extensions<5,>=4.3.0 in /usr/local/lib/python3.10/dist-packages (from streamlit) (4.5.0)\n",
            "Requirement already satisfied: tzlocal<6,>=1.1 in /usr/local/lib/python3.10/dist-packages (from streamlit) (5.2)\n",
            "Collecting validators<1,>=0.2 (from streamlit)\n",
            "  Downloading validators-0.22.0-py3-none-any.whl (26 kB)\n",
            "Collecting gitpython!=3.1.19,<4,>=3.0.7 (from streamlit)\n",
            "  Downloading GitPython-3.1.40-py3-none-any.whl (190 kB)\n",
            "\u001b[2K     \u001b[90m━━━━━━━━━━━━━━━━━━━━━━━━━━━━━━━━━━━━━━━━\u001b[0m \u001b[32m190.6/190.6 kB\u001b[0m \u001b[31m19.5 MB/s\u001b[0m eta \u001b[36m0:00:00\u001b[0m\n",
            "\u001b[?25hCollecting pydeck<1,>=0.8.0b4 (from streamlit)\n",
            "  Downloading pydeck-0.8.1b0-py2.py3-none-any.whl (4.8 MB)\n",
            "\u001b[2K     \u001b[90m━━━━━━━━━━━━━━━━━━━━━━━━━━━━━━━━━━━━━━━━\u001b[0m \u001b[32m4.8/4.8 MB\u001b[0m \u001b[31m52.5 MB/s\u001b[0m eta \u001b[36m0:00:00\u001b[0m\n",
            "\u001b[?25hRequirement already satisfied: tornado<7,>=6.0.3 in /usr/local/lib/python3.10/dist-packages (from streamlit) (6.3.2)\n",
            "Collecting watchdog>=2.1.5 (from streamlit)\n",
            "  Downloading watchdog-3.0.0-py3-none-manylinux2014_x86_64.whl (82 kB)\n",
            "\u001b[2K     \u001b[90m━━━━━━━━━━━━━━━━━━━━━━━━━━━━━━━━━━━━━━━━\u001b[0m \u001b[32m82.1/82.1 kB\u001b[0m \u001b[31m6.0 MB/s\u001b[0m eta \u001b[36m0:00:00\u001b[0m\n",
            "\u001b[?25hRequirement already satisfied: entrypoints in /usr/local/lib/python3.10/dist-packages (from altair<6,>=4.0->streamlit) (0.4)\n",
            "Requirement already satisfied: jinja2 in /usr/local/lib/python3.10/dist-packages (from altair<6,>=4.0->streamlit) (3.1.2)\n",
            "Requirement already satisfied: jsonschema>=3.0 in /usr/local/lib/python3.10/dist-packages (from altair<6,>=4.0->streamlit) (4.19.2)\n",
            "Requirement already satisfied: toolz in /usr/local/lib/python3.10/dist-packages (from altair<6,>=4.0->streamlit) (0.12.0)\n",
            "Collecting gitdb<5,>=4.0.1 (from gitpython!=3.1.19,<4,>=3.0.7->streamlit)\n",
            "  Downloading gitdb-4.0.11-py3-none-any.whl (62 kB)\n",
            "\u001b[2K     \u001b[90m━━━━━━━━━━━━━━━━━━━━━━━━━━━━━━━━━━━━━━━━\u001b[0m \u001b[32m62.7/62.7 kB\u001b[0m \u001b[31m6.8 MB/s\u001b[0m eta \u001b[36m0:00:00\u001b[0m\n",
            "\u001b[?25hRequirement already satisfied: zipp>=0.5 in /usr/local/lib/python3.10/dist-packages (from importlib-metadata<7,>=1.4->streamlit) (3.17.0)\n",
            "Requirement already satisfied: pytz>=2020.1 in /usr/local/lib/python3.10/dist-packages (from pandas<3,>=1.3.0->streamlit) (2023.3.post1)\n",
            "Requirement already satisfied: six>=1.5 in /usr/local/lib/python3.10/dist-packages (from python-dateutil<3,>=2.7.3->streamlit) (1.16.0)\n",
            "Requirement already satisfied: charset-normalizer<4,>=2 in /usr/local/lib/python3.10/dist-packages (from requests<3,>=2.27->streamlit) (3.3.2)\n",
            "Requirement already satisfied: idna<4,>=2.5 in /usr/local/lib/python3.10/dist-packages (from requests<3,>=2.27->streamlit) (3.6)\n",
            "Requirement already satisfied: urllib3<3,>=1.21.1 in /usr/local/lib/python3.10/dist-packages (from requests<3,>=2.27->streamlit) (2.0.7)\n",
            "Requirement already satisfied: certifi>=2017.4.17 in /usr/local/lib/python3.10/dist-packages (from requests<3,>=2.27->streamlit) (2023.11.17)\n",
            "Requirement already satisfied: markdown-it-py>=2.2.0 in /usr/local/lib/python3.10/dist-packages (from rich<14,>=10.14.0->streamlit) (3.0.0)\n",
            "Requirement already satisfied: pygments<3.0.0,>=2.13.0 in /usr/local/lib/python3.10/dist-packages (from rich<14,>=10.14.0->streamlit) (2.16.1)\n",
            "Collecting smmap<6,>=3.0.1 (from gitdb<5,>=4.0.1->gitpython!=3.1.19,<4,>=3.0.7->streamlit)\n",
            "  Downloading smmap-5.0.1-py3-none-any.whl (24 kB)\n",
            "Requirement already satisfied: MarkupSafe>=2.0 in /usr/local/lib/python3.10/dist-packages (from jinja2->altair<6,>=4.0->streamlit) (2.1.3)\n",
            "Requirement already satisfied: attrs>=22.2.0 in /usr/local/lib/python3.10/dist-packages (from jsonschema>=3.0->altair<6,>=4.0->streamlit) (23.1.0)\n",
            "Requirement already satisfied: jsonschema-specifications>=2023.03.6 in /usr/local/lib/python3.10/dist-packages (from jsonschema>=3.0->altair<6,>=4.0->streamlit) (2023.11.2)\n",
            "Requirement already satisfied: referencing>=0.28.4 in /usr/local/lib/python3.10/dist-packages (from jsonschema>=3.0->altair<6,>=4.0->streamlit) (0.32.0)\n",
            "Requirement already satisfied: rpds-py>=0.7.1 in /usr/local/lib/python3.10/dist-packages (from jsonschema>=3.0->altair<6,>=4.0->streamlit) (0.15.2)\n",
            "Requirement already satisfied: mdurl~=0.1 in /usr/local/lib/python3.10/dist-packages (from markdown-it-py>=2.2.0->rich<14,>=10.14.0->streamlit) (0.1.2)\n",
            "Installing collected packages: watchdog, validators, smmap, importlib-metadata, pydeck, gitdb, gitpython, streamlit\n",
            "  Attempting uninstall: importlib-metadata\n",
            "    Found existing installation: importlib-metadata 7.0.0\n",
            "    Uninstalling importlib-metadata-7.0.0:\n",
            "      Successfully uninstalled importlib-metadata-7.0.0\n",
            "Successfully installed gitdb-4.0.11 gitpython-3.1.40 importlib-metadata-6.11.0 pydeck-0.8.1b0 smmap-5.0.1 streamlit-1.29.0 validators-0.22.0 watchdog-3.0.0\n"
          ]
        }
      ]
    },
    {
      "cell_type": "markdown",
      "source": [
        "Prepare the data, downloaded from kaggle and uploaded into gdrive"
      ],
      "metadata": {
        "id": "8qmWqV8QKYL-"
      }
    },
    {
      "cell_type": "code",
      "execution_count": null,
      "metadata": {
        "colab": {
          "base_uri": "https://localhost:8080/"
        },
        "id": "lU2o5-ICJ84x",
        "outputId": "300c526d-5084-49f1-b7c3-36315892575c"
      },
      "outputs": [
        {
          "output_type": "stream",
          "name": "stdout",
          "text": [
            "Mounted at /content/drive\n"
          ]
        }
      ],
      "source": [
        "from google.colab import drive\n",
        "\n",
        "# Mount Google Drive\n",
        "drive.mount('/content/drive')\n",
        "\n",
        "# Path to the file in your Google Drive\n",
        "file_path = '/content/drive/My Drive/Data/day.csv'\n",
        "\n",
        "# Example: Read a CSV file using pandas\n",
        "data = pd.read_csv(file_path)"
      ]
    },
    {
      "cell_type": "code",
      "source": [
        "# Since some values in dataset ire already in normalized value, so we need to inverse some variable into actual values\n",
        "# Based by information of normalization parameter in dataset info\n",
        "# The data don't have any missing values or duplicates so we don't need to clean it first\n",
        "data['suhu'] = data['temp']*(39+8)+(-8)     #39 and -8 was declared as max and min of 'temp' variable\n",
        "data['kelembaban'] = data['hum']*100        #100 was declared as max values of 'hum' variable\n",
        "data['speed_angin'] = data['windspeed']*67  #67 was declared as max values of 'windspeed' variable\n",
        "year_dict = {0 : 2011 , 1 : 2012}\n",
        "data['yr'] = data['yr'].replace(year_dict)"
      ],
      "metadata": {
        "id": "KErWJvH5LZz_"
      },
      "execution_count": null,
      "outputs": []
    },
    {
      "cell_type": "markdown",
      "source": [
        "## **Creating Dashboard Layout**"
      ],
      "metadata": {
        "id": "IBDHKWwLV_cw"
      }
    },
    {
      "cell_type": "code",
      "source": [
        "# create sidebar\n",
        "with st.sidebar:\n",
        "  st.write(\"**My Profile**\")\n",
        "  foto = '/content/drive/Mydrive/DSC_0081.jpg'\n",
        "  st.image(foto)\n",
        "  st.write('Hafidz Muhammad Fahri')\n",
        "  st.write(\"I am fresh graduate of statistics and have a passion of data visualization. Here i'm gonna test my skill by creating dashboard to analyze this dataset\")\n",
        "\n",
        "#create title and header\n",
        "st.title(\"Bike Sharing Data Analyze :bike:\")\n",
        "st.header(\"Dataset Quick Details\", divider='blue')\n",
        "st.caption(\"Bike-sharing rental process is highly correlated to the environmental and seasonal settings. /n\",\n",
        "          \"For instance, weather conditions, precipitation, day of week, season, hour of the day, etc. can affect the rental behaviors.\")\n",
        "st.subheader(\"Business Question\", divider='blue')\n",
        "st.write('1. How is the count of bike rent between 2 years?')\n",
        "st.write('2. Is there any correlation between weather conditions and count of bike rent?')\n",
        "st.subheader(\"Visual Analyze\", divider='blue')"
      ],
      "metadata": {
        "id": "I1DfzLuvWL7Y"
      },
      "execution_count": null,
      "outputs": []
    },
    {
      "cell_type": "code",
      "source": [
        "# create tabs that wiil contain various chart\n",
        "tab1, tab2, tab3 = st.tabs(['2 year compare','Casual User','Registered User'])\n",
        "\n",
        "with tab1 :\n",
        "  st.header(\"Count of bikes each month between 2 years\")\n",
        "  group_yr = data.groupby(['mnth','yr']).sum().reset_index()\n",
        "  plt.figure(figsize=(12, 6))\n",
        "  sns.barplot(data=group_yr, x='mnth', y='cnt', hue='yr', palette='coolwarm')\n",
        "  plt.xlabel('Months')\n",
        "  plt.ylabel('Count of Bike Rent')\n",
        "  plt.legend(title='Year')\n",
        "  plt.tight_layout()\n",
        "  st.pyplot()\n",
        "  with st.expander(\"See explanation\"):\n",
        "    st.write(\"\"\"\n",
        "        The chart above shows some numbers I picked for you.\n",
        "        I rolled actual dice for these, so they're *guaranteed* to\n",
        "        be random.\n",
        "    \"\"\")\n",
        "\n",
        "with tab2 :\n",
        "  st.header(\"Casual User Performance\")\n",
        "  st.bar_chart(data, x='mnth', y='casual')\n",
        "  with st.expander(\"See explanation\"):\n",
        "    st.write(\"\"\"\n",
        "        From the chart above we can see that:\n",
        "        The top 3 months of casual user performance is July, May, June.\n",
        "        And the top 3 of worst performanece is January, February, and December.\n",
        "    \"\"\")\n",
        "\n",
        "with tab3 :\n",
        "  st.header(\"Registered User Performance\")\n",
        "  st.bar_chart(data, x='mnth', y='registered')\n",
        "  with st.expander(\"See explanation\"):\n",
        "    st.write(\"\"\"\n",
        "        From the chart above we can see that:\n",
        "        The top 3 months of casual user performance is August, September, June.\n",
        "        And the top 3 of worst performanece is January, February, and March.\n",
        "    \"\"\")\n",
        ""
      ],
      "metadata": {
        "id": "zVwQ6gcwfNq_"
      },
      "execution_count": null,
      "outputs": []
    },
    {
      "cell_type": "code",
      "source": [
        "# try regression to see correlation of weather conditions with bike rent performance\n",
        "\n",
        "st.header(\"Advanced Analyze with Regression\", divider='blue')\n",
        "st.subheader(\"Relation between temperature and humidity with users\")\n",
        "fig, (ax1,ax2) = plt.subplots(ncols=2, figsize=(20,5))\n",
        "sns.regplot(x=data['temp'], y=data['cnt'], ax=ax1 ,color='red')\n",
        "sns.regplot(x=data['hum'], y=data['cnt'], ax=ax2)\n",
        "st.pyplot(fig)\n",
        "with st.expander(\"see explanation\"):\n",
        "  st.write(\"\"\"\n",
        "           Both on temperature's and humidity's scatterplot, mass of point is grouping\n",
        "           around regression line, but there are also a lot of point is far from the line.\n",
        "           So, to make sure, let's see what in correlation heatmap show\n",
        "           \"\"\")\n",
        "\n",
        "# create correlation between temp and humidity with user using heatmap from seaborn\n",
        "\n",
        "st.subheader(\"Correlation Heatmap of Temperature and Humidty with Users\")\n",
        "var1=['temp','hum','cnt']\n",
        "newdata=data.loc[:, var1]\n",
        "corr = newdata.corr()\n",
        "plt.figure(figsize=(15,7))\n",
        "sns.heatmap(corr, annot=True, annot_kws={'size':10})\n",
        "st.pyplot()\n",
        "with st.expander(\"see explanation\"):\n",
        "  st.write(\"\"\"\n",
        "           From the heatmap above, we can see correlation between Temperature and Users is positive,\n",
        "           so temperature really affect count of bike rent in positive ways, the lower temperature\n",
        "           decrease the bike users.\n",
        "           And correlation between Humidity and Users is negative, it means the lower humidity,\n",
        "           it will increase the bike users.\n",
        "           \"\"\")\n",
        "\n",
        "text = st.text_area('Feedback')\n",
        "st.write('Feedback: ', text)"
      ],
      "metadata": {
        "id": "BLvqs83MDFOZ"
      },
      "execution_count": null,
      "outputs": []
    }
  ]
}